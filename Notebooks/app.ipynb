{
 "cells": [
  {
   "cell_type": "code",
   "execution_count": 3,
   "metadata": {},
   "outputs": [],
   "source": [
    "import streamlit as st\n",
    "import streamlit.components.v1 as components  # Import Streamlit\n"
   ]
  },
  {
   "cell_type": "code",
   "execution_count": null,
   "metadata": {},
   "outputs": [],
   "source": []
  },
  {
   "cell_type": "code",
   "execution_count": null,
   "metadata": {},
   "outputs": [],
   "source": [
    "\n",
    "st.set_page_config(\n",
    "            page_title=\"MemeSense\",\n",
    "            page_icon=\":performing_arts:\", #Change icon later\n",
    "            layout=\"wide\", # or centered, wide has more space\n",
    "            initial_sidebar_state=\"auto\") # collapsed\n",
    "\n",
    "st.write(\"# Welcome to MemeSense! 👋\")\n",
    "\n",
    "st.sidebar.success(\"Select an app above\")\n",
    "\n",
    "st.write(\"#### Spirit of the LoL is a project that aims to apply Data Science and Machine Learning tools to League of Legends\")\n",
    "\n",
    "st.write(\"\")\n",
    "\n",
    "st.write(\"\")\n",
    "\n",
    "uploaded_file = st.file_uploader(\"Choose a file\")\n",
    "if uploaded_file is not None:\n",
    "    # To read file as bytes:\n",
    "    bytes_data = uploaded_file.getvalue()\n",
    "    st.write(bytes_data)\n",
    "\n",
    "st.write(\"\")\n",
    "\n",
    "st.write(\"\")\n",
    "\n",
    "st.write(\"\")\n",
    "\n",
    "st.write(\"\")\n",
    "\n",
    "\n",
    "st.write(\"\")\n",
    "\n",
    "st.write(\"\")\n",
    "\n",
    "\n",
    "st.write(\"\")\n",
    "\n",
    "st.write(\"\")\n",
    "\n",
    "\n",
    "st.write(\"\")\n",
    "\n",
    "st.write(\"\")\n",
    "\n",
    "st.write(\"\")\n",
    "\n",
    "st.write(\"\")\n"
   ]
  },
  {
   "cell_type": "code",
   "execution_count": null,
   "metadata": {},
   "outputs": [],
   "source": []
  },
  {
   "cell_type": "code",
   "execution_count": null,
   "metadata": {},
   "outputs": [],
   "source": []
  },
  {
   "cell_type": "code",
   "execution_count": null,
   "metadata": {},
   "outputs": [],
   "source": []
  },
  {
   "cell_type": "code",
   "execution_count": null,
   "metadata": {},
   "outputs": [],
   "source": []
  }
 ],
 "metadata": {
  "kernelspec": {
   "display_name": "memesense_interface",
   "language": "python",
   "name": "python3"
  },
  "language_info": {
   "codemirror_mode": {
    "name": "ipython",
    "version": 3
   },
   "file_extension": ".py",
   "mimetype": "text/x-python",
   "name": "python",
   "nbconvert_exporter": "python",
   "pygments_lexer": "ipython3",
   "version": "3.10.6"
  }
 },
 "nbformat": 4,
 "nbformat_minor": 2
}
