{
 "cells": [
  {
   "cell_type": "code",
   "execution_count": 3,
   "metadata": {},
   "outputs": [],
   "source": [
    "import streamlit as st\n",
    "import streamlit.components.v1 as components  # Import Streamlit\n"
   ]
  },
  {
   "cell_type": "code",
   "execution_count": null,
   "metadata": {},
   "outputs": [],
   "source": []
  },
  {
   "cell_type": "code",
   "execution_count": null,
   "metadata": {},
   "outputs": [],
   "source": [
    "\n",
    "st.set_page_config(\n",
    "            page_title=\"MemeSense\",\n",
    "            page_icon=\":performing_arts:\", #Change icon later\n",
    "            layout=\"wide\", # or centered, wide has more space\n",
    "            initial_sidebar_state=\"auto\") # collapsed\n",
    "\n",
    "st.write(\"# Welcome to MemeSense! 👋\")\n",
    "\n",
    "st.sidebar.success(\"Select an app above\")\n",
    "\n",
    "st.write(\"#### Spirit of the LoL is a project that aims to apply Data Science and Machine Learning tools to League of Legends\")\n",
    "\n",
    "st.write(\"\")\n",
    "\n",
    "st.write(\"\")\n",
    "\n",
    "st.write(\"#### **👈 Select an app from the sidebar**\")\n",
    "\n",
    "st.write(\"\")\n",
    "\n",
    "st.write(\"\")\n",
    "\n",
    "#st.write(\"##### **OddsMeter** :video_game:: know the winning odds of your last games and if you :orange[Led but Lost] :collision: or you :green[Defied the Odds] :heart_on_fire:\")\n",
    "#st.write(\"##### :link: https://spirit-of-the-lol.streamlit.app/OddsMeter\")\n",
    "\n",
    "st.write(\"\")\n",
    "\n",
    "st.write(\"\")\n",
    "\n",
    "#st.write(\"##### **Predictor** :dart:: select team objective differences to predict if your team will end in Victory :trophy: or Defeat :thumbsdown:\")\n",
    "#st.write(\"##### :link: https://spirit-of-the-lol.streamlit.app/Predictor\")\n",
    "\n",
    "st.write(\"\")\n",
    "\n",
    "st.write(\"\")\n",
    "\n",
    "#st.write(\"##### **Oldies** :hourglass_flowing_sand:: know the winning odds of old games :open_file_folder:\")\n",
    "#st.write(\"##### :link: https://spirit-of-the-lol.streamlit.app/Oldies\")\n",
    "\n",
    "st.write(\"\")\n",
    "\n",
    "st.write(\"\")\n",
    "\n",
    "#st.write(\"##### **The Team** :busts_in_silhouette::busts_in_silhouette:: to know more about us\")\n",
    "#st.write(\"##### :link: https://spirit-of-the-lol.streamlit.app/The_Team\")\n",
    "\n",
    "st.write(\"\")\n",
    "\n",
    "st.write(\"\")\n",
    "\n",
    "st.write(\"\")\n",
    "\n",
    "st.write(\"\")\n"
   ]
  },
  {
   "cell_type": "code",
   "execution_count": null,
   "metadata": {},
   "outputs": [],
   "source": []
  },
  {
   "cell_type": "code",
   "execution_count": null,
   "metadata": {},
   "outputs": [],
   "source": []
  },
  {
   "cell_type": "code",
   "execution_count": null,
   "metadata": {},
   "outputs": [],
   "source": []
  },
  {
   "cell_type": "code",
   "execution_count": null,
   "metadata": {},
   "outputs": [],
   "source": []
  }
 ],
 "metadata": {
  "kernelspec": {
   "display_name": "memesense_interface",
   "language": "python",
   "name": "python3"
  },
  "language_info": {
   "codemirror_mode": {
    "name": "ipython",
    "version": 3
   },
   "file_extension": ".py",
   "mimetype": "text/x-python",
   "name": "python",
   "nbconvert_exporter": "python",
   "pygments_lexer": "ipython3",
   "version": "3.10.6"
  }
 },
 "nbformat": 4,
 "nbformat_minor": 2
}
